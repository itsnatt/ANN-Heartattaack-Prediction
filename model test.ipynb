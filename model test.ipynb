{
 "cells": [
  {
   "cell_type": "code",
   "execution_count": 16,
   "id": "ae975526-b232-4734-a058-2d30c2660526",
   "metadata": {},
   "outputs": [],
   "source": [
    "#memasukan liblary yang dipakai \n",
    "import torch\n",
    "import torch.nn as nn\n",
    "import torch.optim as optim\n",
    "from torch.utils.data import DataLoader\n",
    "from sklearn.model_selection import train_test_split\n",
    "import pandas as pd\n",
    "import numpy as np"
   ]
  },
  {
   "cell_type": "code",
   "execution_count": 17,
   "id": "b79f83e8-42be-4af2-9ff9-eb3e058beb60",
   "metadata": {},
   "outputs": [],
   "source": [
    "#input jika mengunakan dataset\n",
    "df = pd.read_csv(\"heart_cleveland_upload.csv\")\n",
    "input_size = len(df.columns) - 1  # Mendapatkan jumlah fitur sebagai input_size\n",
    "new_data_1 = df.drop(\"condition\", axis=1).values  # Mengambil fitur-fitur sebagai data baru"
   ]
  },
  {
   "cell_type": "code",
   "execution_count": 18,
   "id": "95971a1a-c632-4c9b-850b-97f9930a5482",
   "metadata": {},
   "outputs": [],
   "source": [
    "#input dengan data manual / baru\n",
    "#new_data = [[ age,sex,cp,trestbps,chol,fbs,restecg,thalach,exang,oldpeak,slope,ca,thal ]]\n",
    "#data salah\n",
    "new_data_2 = [[59, 1, 0, 170, 288, 0, 2, 159, 0, 0.2, 1, 0, 2]] \n",
    "#data benar\n",
    "new_data_3 = [[61, 1, 0, 134, 234, 0, 0, 145, 0, 2.6\t, 1, 2, 0]] \n",
    "#jumlah parameter input\n",
    "input_size = 13\n"
   ]
  },
  {
   "cell_type": "code",
   "execution_count": 19,
   "id": "5b701595-a91b-4f81-8d47-9acac4620397",
   "metadata": {},
   "outputs": [],
   "source": [
    "# Inisialisasi model\n",
    "class ANN(nn.Module):\n",
    "    def __init__(self, input_size):\n",
    "        super(ANN, self).__init__()\n",
    "        # Definisi arsitektur model\n",
    "        self.fc1 = nn.Linear(input_size, 128)\n",
    "        self.fc2 = nn.Linear(128, 64)\n",
    "        self.fc3 = nn.Linear(64, 32)\n",
    "        self.fc4 = nn.Linear(32, 1)\n",
    "        self.sigmoid = nn.Sigmoid()\n",
    "\n",
    "    def forward(self, x):\n",
    "        x = self.fc1(x)\n",
    "        x = self.fc2(x)\n",
    "        x = self.fc3(x)\n",
    "        x = self.fc4(x)\n",
    "        x = self.sigmoid(x)\n",
    "        return x\n",
    "        "
   ]
  },
  {
   "cell_type": "code",
   "execution_count": 20,
   "id": "fe544368-3c7d-454f-8607-481aa7cc82ca",
   "metadata": {},
   "outputs": [
    {
     "data": {
      "text/plain": [
       "<All keys matched successfully>"
      ]
     },
     "execution_count": 20,
     "metadata": {},
     "output_type": "execute_result"
    }
   ],
   "source": [
    " # Inisialisasi objek model dengan arsitektur yang sesuai dan memasukan file hasil training\n",
    "model = ANN(input_size) \n",
    "model.load_state_dict(torch.load('asep1.pth'))\n"
   ]
  },
  {
   "cell_type": "code",
   "execution_count": 21,
   "id": "466bf3f5-4b33-4054-a512-51130d528d1b",
   "metadata": {},
   "outputs": [
    {
     "name": "stdout",
     "output_type": "stream",
     "text": [
      "tensor([[1.]])\n"
     ]
    }
   ],
   "source": [
    "new_data_tensor = torch.tensor(new_data_3, dtype=torch.float32)  # Konversi data baru menjadi tensor\n",
    "with torch.no_grad():\n",
    "    model.eval()\n",
    "    prediction = model(new_data_tensor)\n",
    "\n",
    "# Contoh pengambilan label prediksi biner\n",
    "threshold = 0.5\n",
    "predicted_labels = (prediction > threshold).float()\n",
    "\n",
    "# Tampilkan hasil prediksi\n",
    "print(predicted_labels)\n"
   ]
  },
  {
   "cell_type": "code",
   "execution_count": 22,
   "id": "a2ca60a8-3d1e-4c53-9424-761d4416fbf6",
   "metadata": {},
   "outputs": [
    {
     "name": "stdout",
     "output_type": "stream",
     "text": [
      "Prediksi adalah 1\n"
     ]
    }
   ],
   "source": [
    "prediction_value = predicted_labels.item()\n",
    "if prediction_value == 1:\n",
    "    # Lakukan sesuatu jika prediksi adalah 1\n",
    "    print(\"Prediksi adalah 1\")\n",
    "else:\n",
    "    # Lakukan sesuatu jika prediksi bukan 1\n",
    "    print(\"Prediksi bukan 1\")"
   ]
  },
  {
   "cell_type": "markdown",
   "id": "c92e9d88-daa0-4696-8f54-cfdce04a0cd7",
   "metadata": {},
   "source": [
    "#update untuk input terminal"
   ]
  },
  {
   "cell_type": "code",
   "execution_count": 8,
   "id": "8ed7e01e-31e4-4b41-9be2-b69f0ac53cd9",
   "metadata": {},
   "outputs": [
    {
     "name": "stdin",
     "output_type": "stream",
     "text": [
      "Masukkan age      : 1\n",
      "Masukkan sex      : 1\n",
      "Masukkan cp       : 1\n",
      "Masukkan trestbps : 1\n",
      "Masukkan chol     : 1\n",
      "Masukkan fbs      : 1\n",
      "Masukkan restecg  : 1\n",
      "Masukkan thalach  : 1\n",
      "Masukkan exang    : 1\n",
      "Masukkan oldpeak  : 1\n",
      "Masukkan slope    : 1\n",
      "Masukkan ca       : 1\n",
      "Masukkan thal     : 1\n"
     ]
    },
    {
     "name": "stdout",
     "output_type": "stream",
     "text": [
      "Data baru: [[1.0, 1.0, 1.0, 1.0, 1.0, 1.0, 1.0, 1.0, 1.0, 1.0, 1.0, 1.0, 1.0]]\n"
     ]
    }
   ],
   "source": [
    "# Mengambil input pengguna melalui terminal\n",
    "age = float(input(\"Masukkan age      :\".ljust(12)))\n",
    "sex = float(input(\"Masukkan sex      :\".ljust(12)))\n",
    "cp = float(input(\"Masukkan cp       :\".ljust(12)))\n",
    "trestbps = float(input(\"Masukkan trestbps :\".ljust(12)))\n",
    "chol = float(input(\"Masukkan chol     :\".ljust(12)))\n",
    "fbs = float(input(\"Masukkan fbs      :\".ljust(12)))\n",
    "restecg = float(input(\"Masukkan restecg  :\".ljust(12)))\n",
    "thalach = float(input(\"Masukkan thalach  :\".ljust(12)))\n",
    "exang = float(input(\"Masukkan exang    :\".ljust(12)))\n",
    "oldpeak = float(input(\"Masukkan oldpeak  :\".ljust(12)))\n",
    "slope = float(input(\"Masukkan slope    :\".ljust(12)))\n",
    "ca = float(input(\"Masukkan ca       :\".ljust(12)))\n",
    "thal = float(input(\"Masukkan thal     :\".ljust(12)))\n",
    "\n",
    "\n",
    "# Membuat data baru berdasarkan input pengguna\n",
    "new_data = [[age, sex, cp, trestbps, chol, fbs, restecg, thalach, exang, oldpeak, slope, ca, thal]]\n",
    "\n",
    "print(\"Data baru:\", new_data)"
   ]
  },
  {
   "cell_type": "code",
   "execution_count": 15,
   "id": "264085a2-5f7c-4c58-8ea3-f38261ac0e94",
   "metadata": {},
   "outputs": [
    {
     "name": "stdout",
     "output_type": "stream",
     "text": [
      "Prediksi Kemungkinan Penyakit Jantung\n",
      "Artificial neural network\n",
      "Kelompok - 9 - Stefani - Rizka - Rafi - Fathan \n",
      " \n"
     ]
    },
    {
     "name": "stdin",
     "output_type": "stream",
     "text": [
      "Masukkan age      : 12\n",
      "Masukkan sex      : 12\n",
      "Masukkan cp       : 12\n",
      "Masukkan trestbps : 12\n",
      "Masukkan chol     : 12\n",
      "Masukkan fbs      : 12\n",
      "Masukkan restecg  : 12\n",
      "Masukkan thalach  : 12\n",
      "Masukkan exang    : 12\n",
      "Masukkan oldpeak  : 12\n",
      "Masukkan slope    : 12\n",
      "Masukkan ca       : 12\n",
      "Masukkan thal     : 12\n"
     ]
    },
    {
     "name": "stdout",
     "output_type": "stream",
     "text": [
      " \n",
      "Hasil Prediksi : \n",
      "   Terprediksi adanya penyakit jantung\n"
     ]
    }
   ],
   "source": [
    "# memasukan liblary yang dipakai \n",
    "import torch\n",
    "import torch.nn as nn\n",
    "import torch.optim as optim\n",
    "from torch.utils.data import DataLoader\n",
    "from sklearn.model_selection import train_test_split\n",
    "import pandas as pd\n",
    "import numpy as np\n",
    "\n",
    "print(\"Prediksi Kemungkinan Penyakit Jantung\")\n",
    "print(\"Artificial neural network\")\n",
    "print(\"Kelompok - 9 - Stefani - Rizka - Rafi - Fathan \")\n",
    "print(\" \")\n",
    "# Mengambil input pengguna melalui terminal\n",
    "age = float(input(\"Masukkan age      :\".ljust(12)))\n",
    "sex = float(input(\"Masukkan sex      :\".ljust(12)))\n",
    "cp = float(input(\"Masukkan cp       :\".ljust(12)))\n",
    "trestbps = float(input(\"Masukkan trestbps :\".ljust(12)))\n",
    "chol = float(input(\"Masukkan chol     :\".ljust(12)))\n",
    "fbs = float(input(\"Masukkan fbs      :\".ljust(12)))\n",
    "restecg = float(input(\"Masukkan restecg  :\".ljust(12)))\n",
    "thalach = float(input(\"Masukkan thalach  :\".ljust(12)))\n",
    "exang = float(input(\"Masukkan exang    :\".ljust(12)))\n",
    "oldpeak = float(input(\"Masukkan oldpeak  :\".ljust(12)))\n",
    "slope = float(input(\"Masukkan slope    :\".ljust(12)))\n",
    "ca = float(input(\"Masukkan ca       :\".ljust(12)))\n",
    "thal = float(input(\"Masukkan thal     :\".ljust(12)))\n",
    "\n",
    "# Membuat data baru berdasarkan input pengguna\n",
    "new_data = [[age, sex, cp, trestbps, chol, fbs, restecg, thalach, exang, oldpeak, slope, ca, thal]]\n",
    "input_size = 13\n",
    "\n",
    "# Inisialisasi model\n",
    "class ANN(nn.Module):\n",
    "    def __init__(self, input_size):\n",
    "        super(ANN, self).__init__()\n",
    "        # Definisi arsitektur model\n",
    "        self.fc1 = nn.Linear(input_size, 128)\n",
    "        self.fc2 = nn.Linear(128, 64)\n",
    "        self.fc3 = nn.Linear(64, 32)\n",
    "        self.fc4 = nn.Linear(32, 1)\n",
    "        self.sigmoid = nn.Sigmoid()\n",
    "\n",
    "    def forward(self, x):\n",
    "        x = self.fc1(x)\n",
    "        x = self.fc2(x)\n",
    "        x = self.fc3(x)\n",
    "        x = self.fc4(x)\n",
    "        x = self.sigmoid(x)\n",
    "        return x\n",
    "\n",
    " # Inisialisasi objek model dengan arsitektur yang sesuai dan memasukan file hasil training\n",
    "model = ANN(input_size) \n",
    "model.load_state_dict(torch.load('asep1.pth'))\n",
    "\n",
    "new_data_tensor = torch.tensor(new_data_3, dtype=torch.float32)  # Konversi data baru menjadi tensor\n",
    "with torch.no_grad():\n",
    "    model.eval()\n",
    "    prediction = model(new_data_tensor)\n",
    "\n",
    "# Contoh pengambilan label prediksi biner\n",
    "threshold = 0.5\n",
    "predicted_labels = (prediction > threshold).float()\n",
    "\n",
    "# Tampilkan hasil prediksi\n",
    "print(\" \")\n",
    "print(\"Hasil Prediksi : \")\n",
    "prediction_value = predicted_labels.item()\n",
    "if prediction_value == 1:\n",
    "    # Lakukan sesuatu jika prediksi adalah 1\n",
    "    print(\"   Terprediksi adanya penyakit jantung\")\n",
    "else:\n",
    "    # Lakukan sesuatu jika prediksi bukan 1\n",
    "    print(\"   Terprediksi Tidak ada penyakit jantung\")"
   ]
  },
  {
   "cell_type": "code",
   "execution_count": null,
   "id": "70d9b684-9f42-435b-b533-24c3f756f05b",
   "metadata": {},
   "outputs": [],
   "source": []
  },
  {
   "cell_type": "code",
   "execution_count": null,
   "id": "069befee-687b-4098-973b-853321cc5515",
   "metadata": {},
   "outputs": [],
   "source": []
  }
 ],
 "metadata": {
  "kernelspec": {
   "display_name": "Python 3 (ipykernel)",
   "language": "python",
   "name": "python3"
  },
  "language_info": {
   "codemirror_mode": {
    "name": "ipython",
    "version": 3
   },
   "file_extension": ".py",
   "mimetype": "text/x-python",
   "name": "python",
   "nbconvert_exporter": "python",
   "pygments_lexer": "ipython3",
   "version": "3.11.4"
  }
 },
 "nbformat": 4,
 "nbformat_minor": 5
}
