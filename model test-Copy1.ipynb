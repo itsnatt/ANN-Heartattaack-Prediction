{
 "cells": [
  {
   "cell_type": "code",
   "execution_count": 1,
   "id": "ae975526-b232-4734-a058-2d30c2660526",
   "metadata": {},
   "outputs": [],
   "source": [
    "#memasukan liblary yang dipakai \n",
    "import torch\n",
    "import torch.nn as nn\n",
    "import torch.optim as optim\n",
    "from torch.utils.data import DataLoader\n",
    "from sklearn.model_selection import train_test_split\n",
    "import pandas as pd\n",
    "import numpy as np"
   ]
  },
  {
   "cell_type": "code",
   "execution_count": null,
   "id": "b79f83e8-42be-4af2-9ff9-eb3e058beb60",
   "metadata": {},
   "outputs": [],
   "source": [
    "#input jika mengunakan dataset\n",
    "df = pd.read_csv(\"heart_cleveland_upload.csv\")\n",
    "input_size = len(df.columns) - 1  # Mendapatkan jumlah fitur sebagai input_size\n",
    "new_data_1 = df.drop(\"condition\", axis=1).values  # Mengambil fitur-fitur sebagai data baru"
   ]
  },
  {
   "cell_type": "code",
   "execution_count": 2,
   "id": "95971a1a-c632-4c9b-850b-97f9930a5482",
   "metadata": {},
   "outputs": [],
   "source": [
    "#input dengan data manual / baru\n",
    "#new_data = [[ age,sex,cp,trestbps,chol,fbs,restecg,thalach,exang,oldpeak,slope,ca,thal ]]\n",
    "#data salah\n",
    "new_data_2 = [[59, 1, 0, 170, 288, 0, 2, 159, 0, 0.2, 1, 0, 2]] \n",
    "#data benar\n",
    "new_data_3 = [[61, 1, 0, 134, 234, 0, 0, 145, 0, 2.6\t, 1, 2, 0]] \n",
    "#jumlah parameter input\n",
    "input_size = 13\n"
   ]
  },
  {
   "cell_type": "code",
   "execution_count": 4,
   "id": "5b701595-a91b-4f81-8d47-9acac4620397",
   "metadata": {},
   "outputs": [],
   "source": [
    "# Inisialisasi model\n",
    "class ANN(nn.Module):\n",
    "    def __init__(self, input_size):\n",
    "        super(ANN, self).__init__()\n",
    "        # Definisi arsitektur model\n",
    "        self.fc1 = nn.Linear(input_size, 128)\n",
    "        self.fc2 = nn.Linear(128, 64)\n",
    "        self.fc3 = nn.Linear(64, 32)\n",
    "        self.fc4 = nn.Linear(32, 1)\n",
    "        self.sigmoid = nn.Sigmoid()\n",
    "\n",
    "    def forward(self, x):\n",
    "        x = self.fc1(x)\n",
    "        x = self.fc2(x)\n",
    "        x = self.fc3(x)\n",
    "        x = self.fc4(x)\n",
    "        x = self.sigmoid(x)\n",
    "        return x\n",
    "        "
   ]
  },
  {
   "cell_type": "code",
   "execution_count": 5,
   "id": "fe544368-3c7d-454f-8607-481aa7cc82ca",
   "metadata": {},
   "outputs": [
    {
     "data": {
      "text/plain": [
       "<All keys matched successfully>"
      ]
     },
     "execution_count": 5,
     "metadata": {},
     "output_type": "execute_result"
    }
   ],
   "source": [
    " # Inisialisasi objek model dengan arsitektur yang sesuai dan memasukan file hasil training\n",
    "model = ANN(input_size) \n",
    "model.load_state_dict(torch.load('asep1.pth'))\n"
   ]
  },
  {
   "cell_type": "code",
   "execution_count": 2,
   "id": "466bf3f5-4b33-4054-a512-51130d528d1b",
   "metadata": {},
   "outputs": [
    {
     "ename": "NameError",
     "evalue": "name 'torch' is not defined",
     "output_type": "error",
     "traceback": [
      "\u001b[0;31m---------------------------------------------------------------------------\u001b[0m",
      "\u001b[0;31mNameError\u001b[0m                                 Traceback (most recent call last)",
      "Cell \u001b[0;32mIn[2], line 1\u001b[0m\n\u001b[0;32m----> 1\u001b[0m new_data_tensor \u001b[38;5;241m=\u001b[39m \u001b[43mtorch\u001b[49m\u001b[38;5;241m.\u001b[39mtensor(new_data_3, dtype\u001b[38;5;241m=\u001b[39mtorch\u001b[38;5;241m.\u001b[39mfloat32)  \u001b[38;5;66;03m# Konversi data baru menjadi tensor\u001b[39;00m\n\u001b[1;32m      2\u001b[0m \u001b[38;5;28;01mwith\u001b[39;00m torch\u001b[38;5;241m.\u001b[39mno_grad():\n\u001b[1;32m      3\u001b[0m     model\u001b[38;5;241m.\u001b[39meval()\n",
      "\u001b[0;31mNameError\u001b[0m: name 'torch' is not defined"
     ]
    }
   ],
   "source": [
    "new_data_tensor = torch.tensor(new_data_3, dtype=torch.float32)  # Konversi data baru menjadi tensor\n",
    "with torch.no_grad():\n",
    "    model.eval()\n",
    "    prediction = model(new_data_tensor)\n",
    "\n",
    "# Contoh pengambilan label prediksi biner\n",
    "threshold = 0.5\n",
    "predicted_labels = (prediction > threshold).float()\n",
    "\n",
    "# Tampilkan hasil prediksi\n",
    "print(predicted_labels)\n",
    "prediction_value = predicted_labels.item()\n",
    "if prediction_value == 1:\n",
    "    # Lakukan sesuatu jika prediksi adalah 1\n",
    "    print(\"Prediksi adalah 1\")\n",
    "else:\n",
    "    # Lakukan sesuatu jika prediksi bukan 1\n",
    "    print(\"Prediksi bukan 1\")\n"
   ]
  },
  {
   "cell_type": "code",
   "execution_count": 1,
   "id": "a2ca60a8-3d1e-4c53-9424-761d4416fbf6",
   "metadata": {},
   "outputs": [
    {
     "ename": "NameError",
     "evalue": "name 'predicted_labels' is not defined",
     "output_type": "error",
     "traceback": [
      "\u001b[0;31m---------------------------------------------------------------------------\u001b[0m",
      "\u001b[0;31mNameError\u001b[0m                                 Traceback (most recent call last)",
      "Cell \u001b[0;32mIn[1], line 1\u001b[0m\n\u001b[0;32m----> 1\u001b[0m prediction_value \u001b[38;5;241m=\u001b[39m \u001b[43mpredicted_labels\u001b[49m\u001b[38;5;241m.\u001b[39mitem()\n\u001b[1;32m      2\u001b[0m \u001b[38;5;28;01mif\u001b[39;00m prediction_value \u001b[38;5;241m==\u001b[39m \u001b[38;5;241m1\u001b[39m:\n\u001b[1;32m      3\u001b[0m     \u001b[38;5;66;03m# Lakukan sesuatu jika prediksi adalah 1\u001b[39;00m\n\u001b[1;32m      4\u001b[0m     \u001b[38;5;28mprint\u001b[39m(\u001b[38;5;124m\"\u001b[39m\u001b[38;5;124mPrediksi adalah 1\u001b[39m\u001b[38;5;124m\"\u001b[39m)\n",
      "\u001b[0;31mNameError\u001b[0m: name 'predicted_labels' is not defined"
     ]
    }
   ],
   "source": []
  },
  {
   "cell_type": "code",
   "execution_count": null,
   "id": "b4d812ce-5cff-47c3-a1a0-8542d4a3223b",
   "metadata": {},
   "outputs": [],
   "source": []
  },
  {
   "cell_type": "code",
   "execution_count": null,
   "id": "34f871a1-7faa-44ae-9718-19cd3e6f603f",
   "metadata": {},
   "outputs": [],
   "source": []
  },
  {
   "cell_type": "code",
   "execution_count": null,
   "id": "70d9b684-9f42-435b-b533-24c3f756f05b",
   "metadata": {},
   "outputs": [],
   "source": []
  },
  {
   "cell_type": "code",
   "execution_count": null,
   "id": "069befee-687b-4098-973b-853321cc5515",
   "metadata": {},
   "outputs": [],
   "source": []
  }
 ],
 "metadata": {
  "kernelspec": {
   "display_name": "Python 3 (ipykernel)",
   "language": "python",
   "name": "python3"
  },
  "language_info": {
   "codemirror_mode": {
    "name": "ipython",
    "version": 3
   },
   "file_extension": ".py",
   "mimetype": "text/x-python",
   "name": "python",
   "nbconvert_exporter": "python",
   "pygments_lexer": "ipython3",
   "version": "3.11.4"
  }
 },
 "nbformat": 4,
 "nbformat_minor": 5
}
